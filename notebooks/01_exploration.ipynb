{
 "cells": [
  {
   "cell_type": "markdown",
   "id": "d69238eb",
   "metadata": {},
   "source": [
    "# Exploration des données simulées\n",
    "Ce notebook sert à :\n",
    "- Charger et inspecter les données brutes\n",
    "- Visualiser les séries temporelles et repérer les anomalies\n",
    "- Charger les fenêtres traitées et vérifier leur format"
   ]
  },
  {
   "cell_type": "markdown",
   "id": "2006b596",
   "metadata": {},
   "source": [
    "## 1. Chargement des librairies"
   ]
  },
  {
   "cell_type": "code",
   "execution_count": 1,
   "id": "8b2dc7bd",
   "metadata": {},
   "outputs": [],
   "source": [
    "import pandas as pd\n",
    "import numpy as np\n",
    "import matplotlib.pyplot as plt\n",
    "%matplotlib inline"
   ]
  },
  {
   "cell_type": "markdown",
   "id": "c7ba16e1",
   "metadata": {},
   "source": [
    "## 2. Chargement et aperçu des données brutes"
   ]
  },
  {
   "cell_type": "code",
   "execution_count": 5,
   "id": "54654b58",
   "metadata": {},
   "outputs": [
    {
     "name": "stdout",
     "output_type": "stream",
     "text": [
      "(18000, 5)\n"
     ]
    },
    {
     "data": {
      "text/html": [
       "<div>\n",
       "<style scoped>\n",
       "    .dataframe tbody tr th:only-of-type {\n",
       "        vertical-align: middle;\n",
       "    }\n",
       "\n",
       "    .dataframe tbody tr th {\n",
       "        vertical-align: top;\n",
       "    }\n",
       "\n",
       "    .dataframe thead th {\n",
       "        text-align: right;\n",
       "    }\n",
       "</style>\n",
       "<table border=\"1\" class=\"dataframe\">\n",
       "  <thead>\n",
       "    <tr style=\"text-align: right;\">\n",
       "      <th></th>\n",
       "      <th>timestamp</th>\n",
       "      <th>temperature_C</th>\n",
       "      <th>vibration_g</th>\n",
       "      <th>current_A</th>\n",
       "      <th>pressure_bar</th>\n",
       "    </tr>\n",
       "  </thead>\n",
       "  <tbody>\n",
       "    <tr>\n",
       "      <th>0</th>\n",
       "      <td>2025-08-01 15:25:16.956437</td>\n",
       "      <td>60.860165</td>\n",
       "      <td>0.213195</td>\n",
       "      <td>4.881391</td>\n",
       "      <td>2.938624</td>\n",
       "    </tr>\n",
       "    <tr>\n",
       "      <th>1</th>\n",
       "      <td>2025-08-01 15:25:17.056437</td>\n",
       "      <td>60.259772</td>\n",
       "      <td>0.214275</td>\n",
       "      <td>4.937108</td>\n",
       "      <td>2.958611</td>\n",
       "    </tr>\n",
       "    <tr>\n",
       "      <th>2</th>\n",
       "      <td>2025-08-01 15:25:17.156437</td>\n",
       "      <td>59.820534</td>\n",
       "      <td>0.183566</td>\n",
       "      <td>4.871592</td>\n",
       "      <td>3.040167</td>\n",
       "    </tr>\n",
       "    <tr>\n",
       "      <th>3</th>\n",
       "      <td>2025-08-01 15:25:17.256437</td>\n",
       "      <td>59.924988</td>\n",
       "      <td>0.167444</td>\n",
       "      <td>5.068063</td>\n",
       "      <td>3.066105</td>\n",
       "    </tr>\n",
       "    <tr>\n",
       "      <th>4</th>\n",
       "      <td>2025-08-01 15:25:17.356437</td>\n",
       "      <td>60.559637</td>\n",
       "      <td>0.117112</td>\n",
       "      <td>5.019233</td>\n",
       "      <td>2.979028</td>\n",
       "    </tr>\n",
       "  </tbody>\n",
       "</table>\n",
       "</div>"
      ],
      "text/plain": [
       "                   timestamp  temperature_C  vibration_g  current_A  \\\n",
       "0 2025-08-01 15:25:16.956437      60.860165     0.213195   4.881391   \n",
       "1 2025-08-01 15:25:17.056437      60.259772     0.214275   4.937108   \n",
       "2 2025-08-01 15:25:17.156437      59.820534     0.183566   4.871592   \n",
       "3 2025-08-01 15:25:17.256437      59.924988     0.167444   5.068063   \n",
       "4 2025-08-01 15:25:17.356437      60.559637     0.117112   5.019233   \n",
       "\n",
       "   pressure_bar  \n",
       "0      2.938624  \n",
       "1      2.958611  \n",
       "2      3.040167  \n",
       "3      3.066105  \n",
       "4      2.979028  "
      ]
     },
     "execution_count": 5,
     "metadata": {},
     "output_type": "execute_result"
    }
   ],
   "source": [
    "df = pd.read_csv('/home/arnaud/Documents/predictive_maintenance/data/raw/simulated_data.csv', parse_dates=['timestamp'])\n",
    "print(df.shape)\n",
    "df.head()"
   ]
  },
  {
   "cell_type": "markdown",
   "id": "4e21cb4f",
   "metadata": {},
   "source": [
    "## 3. Statistiques descriptives"
   ]
  },
  {
   "cell_type": "code",
   "execution_count": 6,
   "id": "14142452",
   "metadata": {},
   "outputs": [
    {
     "data": {
      "text/html": [
       "<div>\n",
       "<style scoped>\n",
       "    .dataframe tbody tr th:only-of-type {\n",
       "        vertical-align: middle;\n",
       "    }\n",
       "\n",
       "    .dataframe tbody tr th {\n",
       "        vertical-align: top;\n",
       "    }\n",
       "\n",
       "    .dataframe thead th {\n",
       "        text-align: right;\n",
       "    }\n",
       "</style>\n",
       "<table border=\"1\" class=\"dataframe\">\n",
       "  <thead>\n",
       "    <tr style=\"text-align: right;\">\n",
       "      <th></th>\n",
       "      <th>count</th>\n",
       "      <th>mean</th>\n",
       "      <th>std</th>\n",
       "      <th>min</th>\n",
       "      <th>25%</th>\n",
       "      <th>50%</th>\n",
       "      <th>75%</th>\n",
       "      <th>max</th>\n",
       "    </tr>\n",
       "  </thead>\n",
       "  <tbody>\n",
       "    <tr>\n",
       "      <th>temperature_C</th>\n",
       "      <td>18000.0</td>\n",
       "      <td>60.515431</td>\n",
       "      <td>1.476303</td>\n",
       "      <td>58.127137</td>\n",
       "      <td>59.718025</td>\n",
       "      <td>60.096477</td>\n",
       "      <td>60.568144</td>\n",
       "      <td>71.885710</td>\n",
       "    </tr>\n",
       "    <tr>\n",
       "      <th>vibration_g</th>\n",
       "      <td>18000.0</td>\n",
       "      <td>0.203451</td>\n",
       "      <td>0.090098</td>\n",
       "      <td>-0.040632</td>\n",
       "      <td>0.166391</td>\n",
       "      <td>0.199352</td>\n",
       "      <td>0.233846</td>\n",
       "      <td>2.235862</td>\n",
       "    </tr>\n",
       "    <tr>\n",
       "      <th>current_A</th>\n",
       "      <td>18000.0</td>\n",
       "      <td>5.190558</td>\n",
       "      <td>0.912629</td>\n",
       "      <td>4.599866</td>\n",
       "      <td>4.937060</td>\n",
       "      <td>5.007120</td>\n",
       "      <td>5.080917</td>\n",
       "      <td>17.301751</td>\n",
       "    </tr>\n",
       "    <tr>\n",
       "      <th>pressure_bar</th>\n",
       "      <td>18000.0</td>\n",
       "      <td>2.997710</td>\n",
       "      <td>0.108291</td>\n",
       "      <td>1.897719</td>\n",
       "      <td>2.930694</td>\n",
       "      <td>2.998611</td>\n",
       "      <td>3.067398</td>\n",
       "      <td>3.387236</td>\n",
       "    </tr>\n",
       "  </tbody>\n",
       "</table>\n",
       "</div>"
      ],
      "text/plain": [
       "                 count       mean       std        min        25%        50%  \\\n",
       "temperature_C  18000.0  60.515431  1.476303  58.127137  59.718025  60.096477   \n",
       "vibration_g    18000.0   0.203451  0.090098  -0.040632   0.166391   0.199352   \n",
       "current_A      18000.0   5.190558  0.912629   4.599866   4.937060   5.007120   \n",
       "pressure_bar   18000.0   2.997710  0.108291   1.897719   2.930694   2.998611   \n",
       "\n",
       "                     75%        max  \n",
       "temperature_C  60.568144  71.885710  \n",
       "vibration_g     0.233846   2.235862  \n",
       "current_A       5.080917  17.301751  \n",
       "pressure_bar    3.067398   3.387236  "
      ]
     },
     "execution_count": 6,
     "metadata": {},
     "output_type": "execute_result"
    }
   ],
   "source": [
    "df[['temperature_C', 'vibration_g', 'current_A', 'pressure_bar']].describe().T"
   ]
  },
  {
   "cell_type": "markdown",
   "id": "055e66f3",
   "metadata": {},
   "source": [
    "## 4. Visualisation des séries temporelles"
   ]
  },
  {
   "cell_type": "code",
   "execution_count": null,
   "id": "b1a0225e",
   "metadata": {},
   "outputs": [],
   "source": []
  }
 ],
 "metadata": {
  "kernelspec": {
   "display_name": "venv_gpu (3.10.12)",
   "language": "python",
   "name": "python3"
  },
  "language_info": {
   "codemirror_mode": {
    "name": "ipython",
    "version": 3
   },
   "file_extension": ".py",
   "mimetype": "text/x-python",
   "name": "python",
   "nbconvert_exporter": "python",
   "pygments_lexer": "ipython3",
   "version": "3.10.12"
  }
 },
 "nbformat": 4,
 "nbformat_minor": 5
}
